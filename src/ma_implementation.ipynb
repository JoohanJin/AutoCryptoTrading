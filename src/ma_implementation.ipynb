{
 "cells": [
  {
   "cell_type": "code",
   "execution_count": 10,
   "id": "620a3c7a-d2a8-42e4-a0ba-bf3929a7ef03",
   "metadata": {},
   "outputs": [],
   "source": [
    "import pandas as pd\n",
    "from strategy_manager import strategyManager\n",
    "\n",
    "\n",
    "%reload_ext autoreload\n",
    "%autoreload 2"
   ]
  },
  {
   "cell_type": "code",
   "execution_count": 37,
   "id": "c08d91c8",
   "metadata": {},
   "outputs": [
    {
     "name": "stdout",
     "output_type": "stream",
     "text": [
      "self_df is: Empty DataFrame\n",
      "Columns: [symbol, lastPrice, riseFallRate, fairPrice, indexPrice]\n",
      "Index: []\n",
      "append_df\n",
      "ema\n",
      "length of df: 0\n"
     ]
    },
    {
     "name": "stderr",
     "output_type": "stream",
     "text": [
      "Exception in thread Thread-144 (append_df):\n",
      "Traceback (most recent call last):\n",
      "  File \"/usr/lib/python3.10/threading.py\", line 1016, in _bootstrap_inner\n",
      "    self.run()\n",
      "  File \"/home/joe/Projects/AutoCryptoTrading/gazua/lib/python3.10/site-packages/ipykernel/ipkernel.py\", line 766, in run_closure\n",
      "    _threading_Thread_run(self)\n",
      "  File \"/usr/lib/python3.10/threading.py\", line 953, in run\n",
      "    self._target(*self._args, **self._kwargs)\n",
      "  File \"/home/joe/Projects/AutoCryptoTrading/src/strategy_manager.py\", line 114, in append_df\n",
      "    self.data_frame.loc[timestamp] = tmp;\n",
      "  File \"/home/joe/Projects/AutoCryptoTrading/gazua/lib/python3.10/site-packages/pandas/core/indexing.py\", line 911, in __setitem__\n",
      "    iloc._setitem_with_indexer(indexer, value, self.name)\n",
      "  File \"/home/joe/Projects/AutoCryptoTrading/gazua/lib/python3.10/site-packages/pandas/core/indexing.py\", line 1932, in _setitem_with_indexer\n",
      "    self._setitem_with_indexer_missing(indexer, value)\n",
      "  File \"/home/joe/Projects/AutoCryptoTrading/gazua/lib/python3.10/site-packages/pandas/core/indexing.py\", line 2306, in _setitem_with_indexer_missing\n",
      "    raise ValueError(\"cannot set a row with mismatched columns\")\n",
      "ValueError: cannot set a row with mismatched columns\n"
     ]
    },
    {
     "name": "stdout",
     "output_type": "stream",
     "text": [
      "{'symbol': 'BTC_USDT', 'lastPrice': 66068.6, 'riseFallRate': -0.0019, 'fairPrice': 66082.2, 'indexPrice': 66109.7}\n",
      "Index(['symbol', 'lastPrice', 'riseFallRate', 'fairPrice', 'indexPrice'], dtype='object')\n"
     ]
    }
   ],
   "source": [
    "_test = strategyManager()"
   ]
  },
  {
   "cell_type": "code",
   "execution_count": 9,
   "id": "0a9ffdd3",
   "metadata": {},
   "outputs": [
    {
     "data": {
      "text/html": [
       "<div>\n",
       "<style scoped>\n",
       "    .dataframe tbody tr th:only-of-type {\n",
       "        vertical-align: middle;\n",
       "    }\n",
       "\n",
       "    .dataframe tbody tr th {\n",
       "        vertical-align: top;\n",
       "    }\n",
       "\n",
       "    .dataframe thead th {\n",
       "        text-align: right;\n",
       "    }\n",
       "</style>\n",
       "<table border=\"1\" class=\"dataframe\">\n",
       "  <thead>\n",
       "    <tr style=\"text-align: right;\">\n",
       "      <th></th>\n",
       "      <th>a</th>\n",
       "      <th>b</th>\n",
       "      <th>c</th>\n",
       "    </tr>\n",
       "  </thead>\n",
       "  <tbody>\n",
       "    <tr>\n",
       "      <th>a</th>\n",
       "      <td>A</td>\n",
       "      <td>B</td>\n",
       "      <td>C</td>\n",
       "    </tr>\n",
       "  </tbody>\n",
       "</table>\n",
       "</div>"
      ],
      "text/plain": [
       "   a  b  c\n",
       "a  A  B  C"
      ]
     },
     "execution_count": 9,
     "metadata": {},
     "output_type": "execute_result"
    }
   ],
   "source": [
    "df = pd.DataFrame(\n",
    "    dict(\n",
    "        a = 'A',\n",
    "        b = 'B',\n",
    "        c = 'C'\n",
    "    ),\n",
    "\n",
    "    index = [\"a\"]\n",
    ")\n",
    "\n",
    "\n",
    "\n",
    "df"
   ]
  },
  {
   "cell_type": "code",
   "execution_count": 7,
   "id": "713fab3c",
   "metadata": {},
   "outputs": [
    {
     "data": {
      "text/html": [
       "<div>\n",
       "<style scoped>\n",
       "    .dataframe tbody tr th:only-of-type {\n",
       "        vertical-align: middle;\n",
       "    }\n",
       "\n",
       "    .dataframe tbody tr th {\n",
       "        vertical-align: top;\n",
       "    }\n",
       "\n",
       "    .dataframe thead th {\n",
       "        text-align: right;\n",
       "    }\n",
       "</style>\n",
       "<table border=\"1\" class=\"dataframe\">\n",
       "  <thead>\n",
       "    <tr style=\"text-align: right;\">\n",
       "      <th></th>\n",
       "      <th>a</th>\n",
       "      <th>b</th>\n",
       "      <th>c</th>\n",
       "    </tr>\n",
       "  </thead>\n",
       "  <tbody>\n",
       "    <tr>\n",
       "      <th>1</th>\n",
       "      <td>1</td>\n",
       "      <td>2</td>\n",
       "      <td>3</td>\n",
       "    </tr>\n",
       "    <tr>\n",
       "      <th>2</th>\n",
       "      <td>2</td>\n",
       "      <td>3</td>\n",
       "      <td>4</td>\n",
       "    </tr>\n",
       "  </tbody>\n",
       "</table>\n",
       "</div>"
      ],
      "text/plain": [
       "   a  b  c\n",
       "1  1  2  3\n",
       "2  2  3  4"
      ]
     },
     "execution_count": 7,
     "metadata": {},
     "output_type": "execute_result"
    }
   ],
   "source": [
    "df = pd.DataFrame({\n",
    "    \"a\" : [1, 2],\n",
    "    \"b\" : [2, 3],\n",
    "    \"c\" : [3, 4],\n",
    "}, index=[1, 2])\n",
    "\n",
    "df"
   ]
  },
  {
   "cell_type": "code",
   "execution_count": 39,
   "id": "31ef0c5a",
   "metadata": {},
   "outputs": [
    {
     "data": {
      "text/html": [
       "<div>\n",
       "<style scoped>\n",
       "    .dataframe tbody tr th:only-of-type {\n",
       "        vertical-align: middle;\n",
       "    }\n",
       "\n",
       "    .dataframe tbody tr th {\n",
       "        vertical-align: top;\n",
       "    }\n",
       "\n",
       "    .dataframe thead th {\n",
       "        text-align: right;\n",
       "    }\n",
       "</style>\n",
       "<table border=\"1\" class=\"dataframe\">\n",
       "  <thead>\n",
       "    <tr style=\"text-align: right;\">\n",
       "      <th></th>\n",
       "      <th>symbol</th>\n",
       "      <th>lastPrice</th>\n",
       "      <th>riseFallRate</th>\n",
       "      <th>fairPrice</th>\n",
       "      <th>indexPrice</th>\n",
       "    </tr>\n",
       "  </thead>\n",
       "  <tbody>\n",
       "    <tr>\n",
       "      <th>1635734400000</th>\n",
       "      <td>BTC_USDT</td>\n",
       "      <td>66068.6</td>\n",
       "      <td>-0.0019</td>\n",
       "      <td>66082.2</td>\n",
       "      <td>66109.7</td>\n",
       "    </tr>\n",
       "  </tbody>\n",
       "</table>\n",
       "</div>"
      ],
      "text/plain": [
       "                 symbol  lastPrice  riseFallRate  fairPrice  indexPrice\n",
       "1635734400000  BTC_USDT    66068.6       -0.0019    66082.2     66109.7"
      ]
     },
     "execution_count": 39,
     "metadata": {},
     "output_type": "execute_result"
    }
   ],
   "source": [
    "example_dict = {'symbol': 'BTC_USDT', 'lastPrice': 66068.6, 'riseFallRate': -0.0019, 'fairPrice': 66082.2, 'indexPrice': 66109.7}\n",
    "test_timestamp = 1635734400000\n",
    "\n",
    "pd.DataFrame(example_dict, index=[test_timestamp])"
   ]
  },
  {
   "cell_type": "code",
   "execution_count": null,
   "id": "ea16519d",
   "metadata": {},
   "outputs": [],
   "source": [
    "data_frame = pd.DataFrame(\n",
    "            columns = [\n",
    "                'symbol',\n",
    "                'lastPrice',\n",
    "                'riseFallRate',\n",
    "                'fairPrice',\n",
    "                'indexPrice',\n",
    "                # 'volume24',\n",
    "                # 'amount24',\n",
    "                # 'maxBidPrice',\n",
    "                # 'minAskPrice',\n",
    "                # 'lower24Price',\n",
    "                # 'high24Price',\n",
    "                # 'bid1',\n",
    "                # 'ask1',\n",
    "                # 'holdVol',\n",
    "                # 'riseFallValue',\n",
    "                # 'fundingRate',\n",
    "                # 'zone',\n",
    "                # 'riseFallRates',\n",
    "                # 'riseFallRatesOfTimezone',\n",
    "            ]\n",
    "        );"
   ]
  }
 ],
 "metadata": {
  "kernelspec": {
   "display_name": "Python 3 (ipykernel)",
   "language": "python",
   "name": "python3"
  },
  "language_info": {
   "codemirror_mode": {
    "name": "ipython",
    "version": 3
   },
   "file_extension": ".py",
   "mimetype": "text/x-python",
   "name": "python",
   "nbconvert_exporter": "python",
   "pygments_lexer": "ipython3",
   "version": "3.10.12"
  }
 },
 "nbformat": 4,
 "nbformat_minor": 5
}
