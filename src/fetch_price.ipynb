{
 "cells": [
  {
   "cell_type": "code",
   "execution_count": 2,
   "id": "eadc5426-7be3-4e4c-9cc1-cc218558c80a",
   "metadata": {},
   "outputs": [],
   "source": [
    "import numpy as np\n",
    "import pandas as pd\n",
    "import matplotlib.pyplot as plt\n",
    "\n",
    "from future_websocket import FutureWebsocketManager"
   ]
  },
  {
   "cell_type": "code",
   "execution_count": 5,
   "id": "0f8f9d82-6c0a-4211-a07a-282b840ff1f3",
   "metadata": {},
   "outputs": [],
   "source": [
    "def callback(msg):\n",
    "    print(msg)"
   ]
  },
  {
   "cell_type": "code",
   "execution_count": 91,
   "id": "14c16d97-8ff3-4184-bde0-f09d73396355",
   "metadata": {},
   "outputs": [],
   "source": [
    "# re = test_library.fetch_price()\n",
    "ticker_df = pd.DataFrame()"
   ]
  },
  {
   "cell_type": "code",
   "execution_count": 3,
   "id": "4f96868d-3873-422c-a10c-570e1fd29659",
   "metadata": {},
   "outputs": [
    {
     "name": "stderr",
     "output_type": "stream",
     "text": [
      "Websocket connected\n",
      "error from callback <bound method __BasicWebSocketManager.__on_message of <future_websocket.FutureWebsocketManager object at 0x7f2b39a2d900>>: 'method' object is not subscriptable\n",
      "Connection to remote host was lost. - goodbye\n",
      "Exception in thread Thread-6 (<lambda>):\n",
      "Traceback (most recent call last):\n",
      "  File \"/usr/lib/python3.10/threading.py\", line 1016, in _bootstrap_inner\n",
      "    self.run()\n",
      "  File \"/home/joe/AutoCryptoTrading/venv/lib/python3.10/site-packages/ipykernel/ipkernel.py\", line 766, in run_closure\n",
      "    _threading_Thread_run(self)\n",
      "  File \"/usr/lib/python3.10/threading.py\", line 953, in run\n",
      "    self._target(*self._args, **self._kwargs)\n",
      "  File \"/home/joe/AutoCryptoTrading/src/future_websocket.py\", line 130, in <lambda>\n",
      "    target = lambda: self._ping_loop(\n",
      "  File \"/home/joe/AutoCryptoTrading/src/future_websocket.py\", line 303, in _ping_loop\n",
      "    self.ws.send(ping_payload)\n",
      "  File \"/home/joe/AutoCryptoTrading/venv/lib/python3.10/site-packages/websocket/_app.py\", line 291, in send\n",
      "    raise WebSocketConnectionClosedException(\"Connection is already closed.\")\n",
      "websocket._exceptions.WebSocketConnectionClosedException: Connection is already closed.\n"
     ]
    }
   ],
   "source": [
    "jupyterFutureWebsocketManager = FutureWebsocketManager()\n"
   ]
  },
  {
   "cell_type": "code",
   "execution_count": 6,
   "id": "0bf6cbc3-ceb7-481d-bd26-ca380901a975",
   "metadata": {},
   "outputs": [],
   "source": [
    "jupyterFutureWebsocketManager.subscribe(\n",
    "    topic=\"sub.ticker\",\n",
    "    callback_function=callback,\n",
    "    params = dict(\n",
    "        symbol = \"BTC_USDT\"\n",
    "    )\n",
    ")"
   ]
  },
  {
   "cell_type": "code",
   "execution_count": 31,
   "id": "1f70ddf2-8f12-4c6f-ac66-6ecdc3064f21",
   "metadata": {},
   "outputs": [],
   "source": [
    "jupyterFutureWebsocketManager.subscribe(\n",
    "    topic=\"unsub.ticker\"\n",
    ")"
   ]
  },
  {
   "cell_type": "code",
   "execution_count": 42,
   "id": "03587159-d2b0-4cb5-b121-68cfa999856c",
   "metadata": {},
   "outputs": [],
   "source": []
  }
 ],
 "metadata": {
  "kernelspec": {
   "display_name": "Python 3 (ipykernel)",
   "language": "python",
   "name": "python3"
  },
  "language_info": {
   "codemirror_mode": {
    "name": "ipython",
    "version": 3
   },
   "file_extension": ".py",
   "mimetype": "text/x-python",
   "name": "python",
   "nbconvert_exporter": "python",
   "pygments_lexer": "ipython3",
   "version": "3.10.12"
  }
 },
 "nbformat": 4,
 "nbformat_minor": 5
}
